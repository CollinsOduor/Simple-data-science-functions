{
 "cells": [
  {
   "cell_type": "code",
   "execution_count": 7,
   "metadata": {
    "scrolled": true
   },
   "outputs": [
    {
     "name": "stdout",
     "output_type": "stream",
     "text": [
      "[10111.351351351352, 20776.75675675676]\n",
      "519.3649547017842\n"
     ]
    }
   ],
   "source": [
    "import math\n",
    "\n",
    "def my_sum(arr):\n",
    "    total = 0\n",
    "    for a in arr:\n",
    "        total += a\n",
    "    return total\n",
    "\n",
    "def my_mean(arr):\n",
    "    return my_sum(arr)/len(arr)\n",
    "\n",
    "def my_variance(arr):\n",
    "    mean_arr = my_mean(arr)\n",
    "    tot = 0\n",
    "    for a in arr:\n",
    "        tot += (a-mean_arr)**2\n",
    "    return tot\n",
    "\n",
    "def my_covariance(arr_x, arr_y):\n",
    "    covar = 0\n",
    "    mean_x = my_mean(arr_x)\n",
    "    mean_y = my_mean(arr_y)\n",
    "    for i in range(len(arr_x)):\n",
    "        covar += (arr_x[i]-mean_x)*(arr_y[i]-mean_y)\n",
    "    return covar\n",
    "\n",
    "def find_coeffs(x, y):\n",
    "    # for eqn 'y = ax + b'\n",
    "    a = my_covariance(x, y)/my_variance(x)\n",
    "    b = my_mean(y) - a * my_mean(x)\n",
    "    return [a, b]\n",
    "    \n",
    "def make_predictions(x, y, x_for_prediction):\n",
    "    predicted_y = []\n",
    "    m, c = find_coeffs(x, y)\n",
    "    for a in x_for_prediction:\n",
    "        # using the formula y = mx + c\n",
    "        predicted_y.append(m*a+c)\n",
    "    return predicted_y\n",
    "\n",
    "def rmse(y_real, y_predicted):\n",
    "    error = 0\n",
    "    for i in range(len(y_real)):\n",
    "        error += (y_real[i] - y_predicted[i])**2\n",
    "    return math.sqrt(error/len(y_real))\n",
    "   \n",
    "def main():\n",
    "    # x and y are lists\n",
    "    x = [5000, 2000, 3500, 3000, 6000, 3500, 2000]\n",
    "    y = [16500, 6700, 11650, 10500, 21400, 11650, 6600]\n",
    "    x_pred = [3000, 6000]\n",
    "    y_expected = [10500, 21400]\n",
    "    y_pred = make_predictions(x, y, x_pred)\n",
    "    print(make_predictions(x, y, x_pred))\n",
    "    print(rmse(y_expected, y_pred))\n",
    "    \n",
    "if __name__== \"__main__\":\n",
    "    main()\n",
    "\n",
    "\n",
    "#given y = ax + b\n",
    "# a = covar(x, y) / var(x)\n",
    "# b = my_mean(y) - a * my_mean(x)"
   ]
  },
  {
   "cell_type": "code",
   "execution_count": 4,
   "metadata": {},
   "outputs": [
    {
     "name": "stdout",
     "output_type": "stream",
     "text": [
      "Collecting detectem\n"
     ]
    },
    {
     "name": "stderr",
     "output_type": "stream",
     "text": [
      "  WARNING: Retrying (Retry(total=4, connect=None, read=None, redirect=None, status=None)) after connection broken by 'NewConnectionError('<pip._vendor.urllib3.connection.VerifiedHTTPSConnection object at 0x000001FDAE00CC88>: Failed to establish a new connection: [Errno 11001] getaddrinfo failed')': /simple/detectem/\n",
      "  WARNING: Retrying (Retry(total=3, connect=None, read=None, redirect=None, status=None)) after connection broken by 'NewConnectionError('<pip._vendor.urllib3.connection.VerifiedHTTPSConnection object at 0x000001FDAE00C860>: Failed to establish a new connection: [Errno 11001] getaddrinfo failed')': /simple/detectem/\n",
      "  WARNING: Retrying (Retry(total=2, connect=None, read=None, redirect=None, status=None)) after connection broken by 'NewConnectionError('<pip._vendor.urllib3.connection.VerifiedHTTPSConnection object at 0x000001FDAE00C080>: Failed to establish a new connection: [Errno 11001] getaddrinfo failed')': /simple/detectem/\n",
      "  WARNING: Retrying (Retry(total=1, connect=None, read=None, redirect=None, status=None)) after connection broken by 'NewConnectionError('<pip._vendor.urllib3.connection.VerifiedHTTPSConnection object at 0x000001FDAE00CF28>: Failed to establish a new connection: [Errno 11001] getaddrinfo failed')': /simple/detectem/\n",
      "  WARNING: Retrying (Retry(total=0, connect=None, read=None, redirect=None, status=None)) after connection broken by 'NewConnectionError('<pip._vendor.urllib3.connection.VerifiedHTTPSConnection object at 0x000001FDAE00CE10>: Failed to establish a new connection: [Errno 11001] getaddrinfo failed')': /simple/detectem/\n",
      "  ERROR: Could not find a version that satisfies the requirement detectem (from versions: none)\n",
      "ERROR: No matching distribution found for detectem\n"
     ]
    }
   ],
   "source": [
    "!pip install detectem"
   ]
  }
 ],
 "metadata": {
  "kernelspec": {
   "display_name": "Python 3",
   "language": "python",
   "name": "python3"
  },
  "language_info": {
   "codemirror_mode": {
    "name": "ipython",
    "version": 3
   },
   "file_extension": ".py",
   "mimetype": "text/x-python",
   "name": "python",
   "nbconvert_exporter": "python",
   "pygments_lexer": "ipython3",
   "version": "3.7.3"
  }
 },
 "nbformat": 4,
 "nbformat_minor": 2
}
